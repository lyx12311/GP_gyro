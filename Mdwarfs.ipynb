{
 "cells": [
  {
   "cell_type": "code",
   "execution_count": 1,
   "metadata": {},
   "outputs": [],
   "source": [
    "from HeaderP import *"
   ]
  },
  {
   "cell_type": "code",
   "execution_count": 11,
   "metadata": {},
   "outputs": [
    {
     "data": {
      "text/plain": [
       "Index(['teff_calc', 'KIC_x', 'vz', 'abs_G', 'Prot', 'gaiaid', 'τc', 'Ro',\n",
       "       'KID', 'Prot_log', 'abs_G_rot', 'teff_rot', 'vel_dis', 'kin_age'],\n",
       "      dtype='object')"
      ]
     },
     "execution_count": 11,
     "metadata": {},
     "output_type": "execute_result"
    }
   ],
   "source": [
    "\n",
    "gyro = pd.read_pickle('new_age_ztf.pkl')\n",
    "gyro_kepler = gyro.dropna('KID')\n",
    "gyro_ztf = gyro.dropna('gaiaid')\n"
   ]
  },
  {
   "cell_type": "code",
   "execution_count": 38,
   "metadata": {},
   "outputs": [
    {
     "name": "stderr",
     "output_type": "stream",
     "text": [
      "100%|██████████| 100/100 [00:57<00:00,  1.75it/s]\n"
     ]
    }
   ],
   "source": [
    "timerange = np.linspace(0,10,100)\n",
    "gyro = gyro.sort_values('teff_calc')\n",
    "\n",
    "for i in trange(len(timerange)):\n",
    "    ageselect = timerange[i]\n",
    "    binrange = 0.1\n",
    "\n",
    "    plt.figure(figsize=(10,8))\n",
    "    plt.scatter(gyro['teff_calc'], gyro['Prot'], c=gyro['kin_age'],\n",
    "               vmin=0,vmax=14,s=10,alpha=0.1,cmap='plasma')\n",
    "    m = (gyro['kin_age']>ageselect-0.5*binrange)&(gyro['kin_age']<ageselect+0.5*binrange)\n",
    "    plt.scatter(gyro['teff_calc'][m], gyro['Prot'][m], c=gyro['kin_age'][m],\n",
    "               vmin=0,vmax=14,s=100,edgecolor='k',cmap='plasma')\n",
    "    #plt.plot(gyro['teff_calc'][m], gyro['Prot'][m])\n",
    "    \n",
    "    plt.yscale('log')\n",
    "    plt.xlim([5000,3000])\n",
    "    plt.ylim([10,200])\n",
    "    cb = plt.colorbar()\n",
    "    cb.set_label('Gyro-kinematic Age [Gyr]')\n",
    "    plt.xlabel('Temperature [K]')\n",
    "    plt.ylabel('Prot [Days]')\n",
    "    plt.title('Age: %.2f Gyr'%(timerange[i]), fontsize=25)\n",
    "    plt.savefig('./rawmov/'+str(i)+'.png')\n",
    "    plt.close()"
   ]
  },
  {
   "cell_type": "code",
   "execution_count": null,
   "metadata": {},
   "outputs": [],
   "source": []
  }
 ],
 "metadata": {
  "kernelspec": {
   "display_name": "Python 3",
   "language": "python",
   "name": "python3"
  },
  "language_info": {
   "codemirror_mode": {
    "name": "ipython",
    "version": 3
   },
   "file_extension": ".py",
   "mimetype": "text/x-python",
   "name": "python",
   "nbconvert_exporter": "python",
   "pygments_lexer": "ipython3",
   "version": "3.8.5"
  }
 },
 "nbformat": 4,
 "nbformat_minor": 4
}
